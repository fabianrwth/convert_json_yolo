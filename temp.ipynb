{
 "cells": [
  {
   "cell_type": "code",
   "execution_count": 8,
   "metadata": {},
   "outputs": [
    {
     "name": "stdout",
     "output_type": "stream",
     "text": [
      "dict_keys(['categories', 'images', 'annotations', 'licenses', 'info'])\n",
      "[{'id': 1, 'name': 'type_001', 'supercategory': 'object'}, {'id': 2, 'name': 'type_002', 'supercategory': 'object'}, {'id': 3, 'name': 'type_003', 'supercategory': 'object'}, {'id': 4, 'name': 'type_004', 'supercategory': 'object'}, {'id': 5, 'name': 'type_005', 'supercategory': 'object'}, {'id': 6, 'name': 'type_006', 'supercategory': 'object'}, {'id': 7, 'name': 'type_007', 'supercategory': 'object'}, {'id': 8, 'name': 'type_008', 'supercategory': 'object'}, {'id': 9, 'name': 'type_009', 'supercategory': 'object'}, {'id': 10, 'name': 'type_010', 'supercategory': 'object'}, {'id': 11, 'name': 'type_011', 'supercategory': 'object'}, {'id': 12, 'name': 'type_012', 'supercategory': 'object'}, {'id': 13, 'name': 'type_013', 'supercategory': 'object'}]\n",
      "[{'file_name': 'screws_001.png', 'height': 1440, 'width': 1920, 'id': 1, 'license': 1}, {'file_name': 'screws_002.png', 'height': 1440, 'width': 1920, 'id': 2, 'license': 1}, {'file_name': 'screws_003.png', 'height': 1440, 'width': 1920, 'id': 3, 'license': 1}, {'file_name': 'screws_004.png', 'height': 1440, 'width': 1920, 'id': 4, 'license': 1}]\n",
      "[{'area': 3440.97, 'bbox': [184.5, 876.313, 55, 62.5631, 0], 'category_id': 7, 'id': 1001, 'image_id': 1, 'is_crowd': 0}, {'area': 59271.9, 'bbox': [449.1, 1282.24, 592.719, 100, -1.308127], 'category_id': 3, 'id': 1002, 'image_id': 1, 'is_crowd': 0}, {'area': 116609, 'bbox': [888.3, 1249.54, 955.118, 122.089, -2.436247], 'category_id': 2, 'id': 1003, 'image_id': 1, 'is_crowd': 0}, {'area': 113750, 'bbox': [432.9, 472.305, 962.053, 118.237, -2.219205], 'category_id': 2, 'id': 1004, 'image_id': 1, 'is_crowd': 0}]\n"
     ]
    }
   ],
   "source": [
    "import os\n",
    "import json\n",
    "\n",
    "#Load the json file with the annotation metadata\n",
    "\n",
    "datapath = '.'\n",
    "with open(os.path.join(datapath, 'mvtec_screws.json')) as f:\n",
    "  data = json.load(f)\n",
    "\n",
    "print(data.keys())\n",
    "print(data['categories'])\n",
    "print(data['images'][0:4])\n",
    "print(data['annotations'][0:4])"
   ]
  },
  {
   "cell_type": "code",
   "execution_count": 30,
   "metadata": {},
   "outputs": [
    {
     "ename": "AttributeError",
     "evalue": "'dict' object has no attribute 'bobx'",
     "output_type": "error",
     "traceback": [
      "\u001b[1;31m---------------------------------------------------------------------------\u001b[0m",
      "\u001b[1;31mAttributeError\u001b[0m                            Traceback (most recent call last)",
      "Cell \u001b[1;32mIn[30], line 1\u001b[0m\n\u001b[1;32m----> 1\u001b[0m annotations[\u001b[39m0\u001b[39;49m]\u001b[39m.\u001b[39;49mbobx\n",
      "\u001b[1;31mAttributeError\u001b[0m: 'dict' object has no attribute 'bobx'"
     ]
    }
   ],
   "source": [
    "annotations[0].bobx"
   ]
  },
  {
   "cell_type": "code",
   "execution_count": 47,
   "metadata": {},
   "outputs": [],
   "source": [
    "width = images[img_id-1]['width']\n",
    "height = images[img_id-1]['height']"
   ]
  },
  {
   "cell_type": "code",
   "execution_count": 56,
   "metadata": {},
   "outputs": [
    {
     "name": "stdout",
     "output_type": "stream",
     "text": [
      "7 0.09609375 0.6085506944444444 0.028645833333333332 0.04344659722222222\n",
      "3 0.23390625 0.8904444444444445 0.3087078125 0.06944444444444445\n",
      "2 0.46265625 0.867736111111111 0.4974572916666667 0.08478402777777777\n",
      "2 0.22546875 0.32798958333333333 0.5010692708333333 0.08210902777777777\n",
      "7 0.6283854166666667 0.6538194444444444 0.03229166666666667 0.041944375\n",
      "8 0.46921874999999996 0.9332013888888888 0.1212890625 0.09802708333333333\n",
      "8 0.54234375 0.6459583333333333 0.1228015625 0.09766944444444445\n",
      "6 0.31359375 0.3507013888888889 0.15812500000000002 0.07783263888888889\n",
      "6 0.60140625 0.7234444444444444 0.15616875 0.07717500000000001\n",
      "5 0.6520312500000001 0.5978625 0.15005364583333333 0.06381631944444445\n",
      "4 0.5967187500000001 0.5644625 0.12664375 0.04133034722222222\n",
      "5 0.15984374999999998 0.7154305555555556 0.15565885416666667 0.07376041666666668\n",
      "4 0.14859375 0.5671340277777778 0.11934114583333333 0.04410826388888889\n",
      "1 0.23390625 0.6619909722222223 0.3732770833333333 0.08178194444444445\n",
      "3 0.37359375 0.62591875 0.31065 0.07373611111111111\n",
      "1 0.39796875000000004 0.5791583333333333 0.36940625 0.07505416666666667\n"
     ]
    }
   ],
   "source": [
    "images = data['images']\n",
    "annotations = data['annotations']\n",
    "\n",
    "for annotation in annotations:\n",
    "    img_id = annotation['image_id']\n",
    "    category = annotation['category_id']\n",
    "    bbox = annotation['bbox']\n",
    "    width = images[img_id-1]['width']\n",
    "    height = images[img_id-1]['height']\n",
    "    x_center = bbox[0] / width\n",
    "    y_center = bbox[1] / height\n",
    "    w = bbox[2] / width\n",
    "    h = bbox[3] / height\n",
    "\n",
    "    yolo_list = [category, x_center, y_center, w, h]\n",
    "    yolo_string = \" \".join(str(x) for x in yolo_list)\n",
    "    if img_id == 1:\n",
    "        print(yolo_string)"
   ]
  },
  {
   "cell_type": "code",
   "execution_count": 25,
   "metadata": {},
   "outputs": [
    {
     "data": {
      "text/plain": [
       "7"
      ]
     },
     "execution_count": 25,
     "metadata": {},
     "output_type": "execute_result"
    }
   ],
   "source": [
    "data['annotations'][0]['category_id'].tolist"
   ]
  },
  {
   "cell_type": "code",
   "execution_count": 62,
   "metadata": {},
   "outputs": [
    {
     "name": "stdout",
     "output_type": "stream",
     "text": [
      "['7 0.09609375 0.6085506944444444 0.028645833333333332 0.04344659722222222\\n', '3 0.23390625 0.8904444444444445 0.3087078125 0.06944444444444445\\n', '2 0.46265625 0.867736111111111 0.4974572916666667 0.08478402777777777\\n', '2 0.22546875 0.32798958333333333 0.5010692708333333 0.08210902777777777\\n', '7 0.6283854166666667 0.6538194444444444 0.03229166666666667 0.041944375\\n', '8 0.46921874999999996 0.9332013888888888 0.1212890625 0.09802708333333333\\n', '8 0.54234375 0.6459583333333333 0.1228015625 0.09766944444444445\\n', '6 0.31359375 0.3507013888888889 0.15812500000000002 0.07783263888888889\\n', '6 0.60140625 0.7234444444444444 0.15616875 0.07717500000000001\\n', '5 0.6520312500000001 0.5978625 0.15005364583333333 0.06381631944444445\\n', '4 0.5967187500000001 0.5644625 0.12664375 0.04133034722222222\\n', '5 0.15984374999999998 0.7154305555555556 0.15565885416666667 0.07376041666666668\\n', '4 0.14859375 0.5671340277777778 0.11934114583333333 0.04410826388888889\\n', '1 0.23390625 0.6619909722222223 0.3732770833333333 0.08178194444444445\\n', '3 0.37359375 0.62591875 0.31065 0.07373611111111111\\n', '1 0.39796875000000004 0.5791583333333333 0.36940625 0.07505416666666667']\n"
     ]
    }
   ],
   "source": [
    "# Load annotations\n",
    "with open(\"C:\\Coding\\MA\\screwdata\\screws_001.txt\", \"r\") as f:\n",
    "    lines = f.readlines()\n",
    "    print(lines)\n"
   ]
  },
  {
   "cell_type": "code",
   "execution_count": 74,
   "metadata": {},
   "outputs": [
    {
     "name": "stdout",
     "output_type": "stream",
     "text": [
      "['7 0.09609375 0.6085506944444444 0.028645833333333332 0.04344659722222222\\n', '3 0.23390625 0.8904444444444445 0.3087078125 0.06944444444444445\\n', '2 0.46265625 0.867736111111111 0.4974572916666667 0.08478402777777777\\n', '2 0.22546875 0.32798958333333333 0.5010692708333333 0.08210902777777777\\n', '7 0.6283854166666667 0.6538194444444444 0.03229166666666667 0.041944375\\n', '8 0.46921874999999996 0.9332013888888888 0.1212890625 0.09802708333333333\\n', '8 0.54234375 0.6459583333333333 0.1228015625 0.09766944444444445\\n', '6 0.31359375 0.3507013888888889 0.15812500000000002 0.07783263888888889\\n', '6 0.60140625 0.7234444444444444 0.15616875 0.07717500000000001\\n', '5 0.6520312500000001 0.5978625 0.15005364583333333 0.06381631944444445\\n', '4 0.5967187500000001 0.5644625 0.12664375 0.04133034722222222\\n', '5 0.15984374999999998 0.7154305555555556 0.15565885416666667 0.07376041666666668\\n', '4 0.14859375 0.5671340277777778 0.11934114583333333 0.04410826388888889\\n', '1 0.23390625 0.6619909722222223 0.3732770833333333 0.08178194444444445\\n', '3 0.37359375 0.62591875 0.31065 0.07373611111111111\\n', '1 0.39796875000000004 0.5791583333333333 0.36940625 0.07505416666666667']\n"
     ]
    },
    {
     "ename": "TypeError",
     "evalue": "unsupported operand type(s) for /: 'str' and 'int'",
     "output_type": "error",
     "traceback": [
      "\u001b[1;31m---------------------------------------------------------------------------\u001b[0m",
      "\u001b[1;31mTypeError\u001b[0m                                 Traceback (most recent call last)",
      "Cell \u001b[1;32mIn[74], line 17\u001b[0m\n\u001b[0;32m     14\u001b[0m class_idx, x_center, y_center, width, height \u001b[39m=\u001b[39m line\u001b[39m.\u001b[39msplit()\n\u001b[0;32m     16\u001b[0m \u001b[39m# Convert the YOLO format bounding box to (xmin, ymin, xmax, ymax) format\u001b[39;00m\n\u001b[1;32m---> 17\u001b[0m xmin \u001b[39m=\u001b[39m (\u001b[39mfloat\u001b[39m(x_center) \u001b[39m-\u001b[39m (width \u001b[39m/\u001b[39;49m \u001b[39m2\u001b[39;49m)) \u001b[39m*\u001b[39m width\n\u001b[0;32m     18\u001b[0m ymin \u001b[39m=\u001b[39m (\u001b[39mfloat\u001b[39m(y_center) \u001b[39m-\u001b[39m (height \u001b[39m/\u001b[39m \u001b[39m2\u001b[39m)) \u001b[39m*\u001b[39m height\n\u001b[0;32m     19\u001b[0m xmax \u001b[39m=\u001b[39m (\u001b[39mfloat\u001b[39m(x_center) \u001b[39m+\u001b[39m (width \u001b[39m/\u001b[39m \u001b[39m2\u001b[39m)) \u001b[39m*\u001b[39m width\n",
      "\u001b[1;31mTypeError\u001b[0m: unsupported operand type(s) for /: 'str' and 'int'"
     ]
    }
   ],
   "source": [
    "import cv2\n",
    "\n",
    "\n",
    "# Load the image\n",
    "img = cv2.imread(\"images/screws_001.png\")\n",
    "height = float(img.shape[0])\n",
    "width = float(img.shape[1])\n",
    "# Load annotations\n",
    "with open(\"screws_001.txt\", \"r\") as f:\n",
    "    \n",
    "    lines = f.readlines()\n",
    "    print(lines)\n",
    "    for line in lines:\n",
    "        class_idx, x_center, y_center, width, height = line.split()\n",
    "\n",
    "        # Convert the YOLO format bounding box to (xmin, ymin, xmax, ymax) format\n",
    "        xmin = (float(x_center) - (width / 2)) * width\n",
    "        ymin = (float(y_center) - (height / 2)) * height\n",
    "        xmax = (float(x_center) + (width / 2)) * width\n",
    "        ymax = (float(y_center) + (height / 2)) * height\n",
    "        # # Draw the bounding box on the image\n",
    "        print(xmin, ymin, xmax, ymax)\n",
    "        cv2.rectangle(img, (xmin, ymin), (xmax, ymax), (0, 255, 0), 2)"
   ]
  },
  {
   "cell_type": "code",
   "execution_count": 72,
   "metadata": {},
   "outputs": [
    {
     "data": {
      "text/plain": [
       "0.014322916666666666"
      ]
     },
     "execution_count": 72,
     "metadata": {},
     "output_type": "execute_result"
    }
   ],
   "source": [
    "float(width) / 2"
   ]
  },
  {
   "cell_type": "code",
   "execution_count": 66,
   "metadata": {},
   "outputs": [
    {
     "data": {
      "text/plain": [
       "(1440, 1920, 3)"
      ]
     },
     "execution_count": 66,
     "metadata": {},
     "output_type": "execute_result"
    }
   ],
   "source": [
    "img.shape"
   ]
  }
 ],
 "metadata": {
  "kernelspec": {
   "display_name": "yolo",
   "language": "python",
   "name": "python3"
  },
  "language_info": {
   "codemirror_mode": {
    "name": "ipython",
    "version": 3
   },
   "file_extension": ".py",
   "mimetype": "text/x-python",
   "name": "python",
   "nbconvert_exporter": "python",
   "pygments_lexer": "ipython3",
   "version": "3.9.16"
  },
  "orig_nbformat": 4
 },
 "nbformat": 4,
 "nbformat_minor": 2
}
